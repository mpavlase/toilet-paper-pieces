{
 "cells": [
  {
   "cell_type": "markdown",
   "metadata": {},
   "source": [
    "# toilet-paper-pieces\n",
    "How many pieces is in roll of toilete paper? Let's find it out with Python.\n",
    "\n",
    "I wanted to know, how much pieces of toilet paper is in roll based on several parameters. The problem is that diameter is increasing by every layer of previous pieces."
   ]
  },
  {
   "cell_type": "markdown",
   "metadata": {},
   "source": [
    "## Roll\n",
    "Let's demonstrate it in this SSD [1]\n",
    "```\n",
    "      *******\n",
    "   *           *\n",
    "  *     ***     *\n",
    " *    *ri   * ro *\n",
    " *   *<--o------>*\n",
    " *    *     *    *\n",
    "  *     ***     *\n",
    "   *           *\n",
    "      *******\n",
    "```\n",
    "\n",
    "`r_inner` (`ri` in drawing) is diameter of inner circle (roll base)\n",
    "\n",
    "`r_outer` (`ro` in drawing) is diameter of outer circle (roll base with pieces)\n",
    "\n",
    "----\n",
    "[1] Simply Stupid Drawing"
   ]
  },
  {
   "cell_type": "markdown",
   "metadata": {},
   "source": [
    "## Piece (better to say *sheet*)\n",
    "\n",
    "The sheet is a rectangle. We are interested in just one dimension - length, that is involved in total diameter.\n",
    "\n",
    "```\n",
    "+---------+    A\n",
    "|         |    |\n",
    "|         |    | we don't care about this\n",
    "|         |    |\n",
    "+---------+    V\n",
    "\n",
    "<--------->\n",
    "   length\n",
    "```"
   ]
  },
  {
   "cell_type": "markdown",
   "metadata": {},
   "source": [
    "# Example\n",
    "\n",
    "I took a roll (not opened yet), grab my caliper and got these input values:\n",
    "\n",
    "\\begin{equation*}\n",
    "d_{inner} = 40\\,mm\n",
    "\\end{equation*}\n",
    "\n",
    "\\begin{equation*}\n",
    "d_{outer} = 105\\,mm\n",
    "\\end{equation*}\n",
    "\n",
    "\\begin{equation*}\n",
    "thikness = 0.25\\,mm\n",
    "\\end{equation*}\n",
    "\n",
    "\\begin{equation*}\n",
    "length = 130\\,mm\n",
    "\\end{equation*}\n",
    "\n",
    "---\n",
    "($thikness$ is just rough value, because paper is *fluffy* and that's why difficult to measure precisely. I measured it as average of folded 10 layers.)"
   ]
  },
  {
   "cell_type": "markdown",
   "metadata": {},
   "source": [
    "A sheet doesn't fit to roll base diameter exactly (it's smaller from beginning), so we sould evalate just a part of layer, that is wound to the same diameter. Let's call it as $z$ with index of current iteration.\n",
    "\n",
    "$a_0$ is number of sheets / current diameter\n",
    "\n",
    "\\begin{equation*}\n",
    "a_0 = \\frac{perimeter_0}{length}\n",
    "\\end{equation*}\n",
    "after substition:\n",
    "\\begin{equation*}\n",
    "a_0 = \\frac{2 \\cdot \\pi \\cdot r_{inner}}{length}\n",
    "\\end{equation*}\n",
    "\n",
    "Leftover $z$ is:\n",
    "\\begin{equation*}\n",
    "z_0 = 1 - a_0\n",
    "\\end{equation*}"
   ]
  },
  {
   "cell_type": "markdown",
   "metadata": {},
   "source": [
    "Great, we have first iteration. How it will look like another?\n",
    "\n",
    "\\begin{equation*}\n",
    "a_1 = \\frac{2 \\cdot \\pi \\cdot (r_{inner} + thikness)}{length + z_0}\n",
    "\\end{equation*}\n",
    "after $z_0$ substition:\n",
    "\\begin{equation*}\n",
    "a_1 = \\frac{2 \\cdot \\pi \\cdot (r_{inner} + thikness)}{length + (1 - a_0)}\n",
    "\\end{equation*}"
   ]
  },
  {
   "cell_type": "markdown",
   "metadata": {},
   "source": [
    "From that quation we can find a pattern that can be described as sum expression.\n",
    "\\begin{equation*}\n",
    "\\sum_{i=0}^{m} a_i = \\frac\n",
    "{2 \\cdot \\pi \\cdot (r_{inner} + (n + 1) \\cdot thikness)}\n",
    "{l+(1-a_{n-1})}\n",
    "\\end{equation*}\n",
    "... where $m$ is number of toilete paper layers."
   ]
  },
  {
   "cell_type": "markdown",
   "metadata": {},
   "source": [
    "# Final evaluation: *\"Python, help me!\"*"
   ]
  },
  {
   "cell_type": "code",
   "execution_count": 1,
   "metadata": {},
   "outputs": [
    {
     "name": "stdout",
     "output_type": "stream",
     "text": [
      "Expected end about 2.390 pieces/round\n",
      "Round 128: 2.391 pieces/round with -1.391 leftover\n",
      "Whole roll contains about 213 pieces.\n"
     ]
    }
   ],
   "source": [
    "from math import pi\n",
    "\n",
    "# all numbers are in mm\n",
    "\n",
    "d_inner = 40\n",
    "d_outer = 105\n",
    "thikness = 0.25\n",
    "piece_length = 138\n",
    "\n",
    "r_inner = d_inner / 2\n",
    "r_outer = d_outer / 2\n",
    "\n",
    "final_pieces = 2 * pi * r_outer / piece_length\n",
    "\n",
    "def pieces_per_round(number_of_turns, previous_leftover_length):\n",
    "    return (2 * pi * (r_inner + number_of_turns * thikness)) / (piece_length + previous_leftover_length)\n",
    "\n",
    "def leftover_on_round(pieces):\n",
    "    return 1 - pieces\n",
    "\n",
    "def is_last_round(pieces):\n",
    "    return pieces <= final_pieces\n",
    "\n",
    "i = 0\n",
    "previous_leftover_length = 0\n",
    "sum_pieces = 0\n",
    "\n",
    "print(f'Expected end about {final_pieces:1.3f} pieces/round')\n",
    "\n",
    "while True:\n",
    "    pieces = pieces_per_round(i, previous_leftover_length)\n",
    "    leftover = leftover_on_round(pieces)\n",
    "    #print(f'Round {i:3}: {pieces:1.3f} pieces/round with {leftover:1.3f} leftover')\n",
    "    \n",
    "    previous_leftover_length = leftover\n",
    "    sum_pieces += pieces\n",
    "    \n",
    "    if not is_last_round(pieces):\n",
    "        break\n",
    "    \n",
    "    i += 1\n",
    "\n",
    "print(f'Round {i:3}: {pieces:1.3f} pieces/round with {leftover:1.3f} leftover')\n",
    "print(f'Whole roll contains about {sum_pieces:1.0f} pieces.')"
   ]
  }
 ],
 "metadata": {
  "kernelspec": {
   "display_name": "Python 3",
   "language": "python",
   "name": "python3"
  },
  "language_info": {
   "codemirror_mode": {
    "name": "ipython",
    "version": 3
   },
   "file_extension": ".py",
   "mimetype": "text/x-python",
   "name": "python",
   "nbconvert_exporter": "python",
   "pygments_lexer": "ipython3",
   "version": "3.7.5"
  }
 },
 "nbformat": 4,
 "nbformat_minor": 2
}
